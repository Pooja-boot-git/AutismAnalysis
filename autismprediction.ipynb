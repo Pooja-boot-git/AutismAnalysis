{
 "cells": [
  {
   "cell_type": "code",
   "execution_count": 1,
   "id": "2942ffd6",
   "metadata": {
    "_cell_guid": "b1076dfc-b9ad-4769-8c92-a6c4dae69d19",
    "_uuid": "8f2839f25d086af736a60e9eeb907d3b93b6e0e5",
    "execution": {
     "iopub.execute_input": "2022-05-05T21:47:47.981134Z",
     "iopub.status.busy": "2022-05-05T21:47:47.980463Z",
     "iopub.status.idle": "2022-05-05T21:47:49.116925Z",
     "shell.execute_reply": "2022-05-05T21:47:49.116207Z"
    },
    "papermill": {
     "duration": 1.194468,
     "end_time": "2022-05-05T21:47:49.119490",
     "exception": false,
     "start_time": "2022-05-05T21:47:47.925022",
     "status": "completed"
    },
    "tags": []
   },
   "outputs": [],
   "source": [
    "# This Python 3 environment comes with many helpful analytics libraries installed\n",
    "# It is defined by the kaggle/python Docker image: https://github.com/kaggle/docker-python\n",
    "# For example, here's several helpful packages to load\n",
    "import numpy as np # linear algebra\n",
    "import pandas as pd # data processing, CSV file I/O (e.g. pd.read_csv)\n",
    "import seaborn as sns\n",
    "import matplotlib.pyplot as plt\n",
    "# Input data files are available in the read-only \"../input/\" directory\n",
    "# For example, running this (by clicking run or pressing Shift+Enter) will list all files under the input directory\n",
    "\n",
    "# You can write up to 20GB to the current directory (/kaggle/working/) that gets preserved as output when you create a version using \"Save & Run All\" \n",
    "# You can also write temporary files to /kaggle/temp/, but they won't be saved outside of the current session"
   ]
  },
  {
   "cell_type": "markdown",
   "id": "2494e81e",
   "metadata": {
    "papermill": {
     "duration": 0.050942,
     "end_time": "2022-05-05T21:47:49.224870",
     "exception": false,
     "start_time": "2022-05-05T21:47:49.173928",
     "status": "completed"
    },
    "tags": []
   },
   "source": [
    "**Dataset description**\n",
    "- ID - ID of the patient\n",
    "- A1_Score to A10_Score - Score based on Autism Spectrum Quotient (AQ) 10 item screening tool\n",
    "- age - Age of the patient in years\n",
    "- gender - Gender of the patient\n",
    "- ethnicity - Ethnicity of the patient\n",
    "- jaundice - Whether the patient had jaundice at the time of birth\n",
    "- autism - Whether an immediate family member has been diagnosed with autism\n",
    "- contry_of_res - Country of residence of the patient\n",
    "- used_app_before - Whether the patient has undergone a screening test before\n",
    "- result - Score for AQ1-10 screening test\n",
    "- age_desc - Age of the patient\n",
    "- relation - Relation of patient who completed the test\n",
    "- Class/ASD - Classified result as 0 or 1. Here 0 represents No and 1 represents Yes. This is the target column, and during submission submit the values as 0 or 1 only."
   ]
  },
  {
   "cell_type": "code",
   "execution_count": 2,
   "id": "742914b4",
   "metadata": {
    "execution": {
     "iopub.execute_input": "2022-05-05T21:47:49.329535Z",
     "iopub.status.busy": "2022-05-05T21:47:49.329230Z",
     "iopub.status.idle": "2022-05-05T21:47:49.362814Z",
     "shell.execute_reply": "2022-05-05T21:47:49.362127Z"
    },
    "papermill": {
     "duration": 0.088937,
     "end_time": "2022-05-05T21:47:49.365086",
     "exception": false,
     "start_time": "2022-05-05T21:47:49.276149",
     "status": "completed"
    },
    "tags": []
   },
   "outputs": [],
   "source": [
    "train_df = pd.read_csv(\"../input/autismdiagnosis/Autism_Prediction/train.csv\")\n",
    "test_df = pd.read_csv(\"../input/autismdiagnosis/Autism_Prediction/test.csv\")"
   ]
  },
  {
   "cell_type": "code",
   "execution_count": 3,
   "id": "b7ceea11",
   "metadata": {
    "execution": {
     "iopub.execute_input": "2022-05-05T21:47:49.470420Z",
     "iopub.status.busy": "2022-05-05T21:47:49.469629Z",
     "iopub.status.idle": "2022-05-05T21:47:49.501267Z",
     "shell.execute_reply": "2022-05-05T21:47:49.500508Z"
    },
    "papermill": {
     "duration": 0.086951,
     "end_time": "2022-05-05T21:47:49.503861",
     "exception": false,
     "start_time": "2022-05-05T21:47:49.416910",
     "status": "completed"
    },
    "tags": []
   },
   "outputs": [
    {
     "data": {
      "text/html": [
       "<div>\n",
       "<style scoped>\n",
       "    .dataframe tbody tr th:only-of-type {\n",
       "        vertical-align: middle;\n",
       "    }\n",
       "\n",
       "    .dataframe tbody tr th {\n",
       "        vertical-align: top;\n",
       "    }\n",
       "\n",
       "    .dataframe thead th {\n",
       "        text-align: right;\n",
       "    }\n",
       "</style>\n",
       "<table border=\"1\" class=\"dataframe\">\n",
       "  <thead>\n",
       "    <tr style=\"text-align: right;\">\n",
       "      <th></th>\n",
       "      <th>ID</th>\n",
       "      <th>A1_Score</th>\n",
       "      <th>A2_Score</th>\n",
       "      <th>A3_Score</th>\n",
       "      <th>A4_Score</th>\n",
       "      <th>A5_Score</th>\n",
       "      <th>A6_Score</th>\n",
       "      <th>A7_Score</th>\n",
       "      <th>A8_Score</th>\n",
       "      <th>A9_Score</th>\n",
       "      <th>...</th>\n",
       "      <th>gender</th>\n",
       "      <th>ethnicity</th>\n",
       "      <th>jaundice</th>\n",
       "      <th>austim</th>\n",
       "      <th>contry_of_res</th>\n",
       "      <th>used_app_before</th>\n",
       "      <th>result</th>\n",
       "      <th>age_desc</th>\n",
       "      <th>relation</th>\n",
       "      <th>Class/ASD</th>\n",
       "    </tr>\n",
       "  </thead>\n",
       "  <tbody>\n",
       "    <tr>\n",
       "      <th>0</th>\n",
       "      <td>1</td>\n",
       "      <td>1</td>\n",
       "      <td>0</td>\n",
       "      <td>1</td>\n",
       "      <td>0</td>\n",
       "      <td>1</td>\n",
       "      <td>0</td>\n",
       "      <td>1</td>\n",
       "      <td>0</td>\n",
       "      <td>1</td>\n",
       "      <td>...</td>\n",
       "      <td>f</td>\n",
       "      <td>?</td>\n",
       "      <td>no</td>\n",
       "      <td>no</td>\n",
       "      <td>Austria</td>\n",
       "      <td>no</td>\n",
       "      <td>6.351166</td>\n",
       "      <td>18 and more</td>\n",
       "      <td>Self</td>\n",
       "      <td>0</td>\n",
       "    </tr>\n",
       "    <tr>\n",
       "      <th>1</th>\n",
       "      <td>2</td>\n",
       "      <td>0</td>\n",
       "      <td>0</td>\n",
       "      <td>0</td>\n",
       "      <td>0</td>\n",
       "      <td>0</td>\n",
       "      <td>0</td>\n",
       "      <td>0</td>\n",
       "      <td>0</td>\n",
       "      <td>0</td>\n",
       "      <td>...</td>\n",
       "      <td>m</td>\n",
       "      <td>?</td>\n",
       "      <td>no</td>\n",
       "      <td>no</td>\n",
       "      <td>India</td>\n",
       "      <td>no</td>\n",
       "      <td>2.255185</td>\n",
       "      <td>18 and more</td>\n",
       "      <td>Self</td>\n",
       "      <td>0</td>\n",
       "    </tr>\n",
       "    <tr>\n",
       "      <th>2</th>\n",
       "      <td>3</td>\n",
       "      <td>1</td>\n",
       "      <td>1</td>\n",
       "      <td>1</td>\n",
       "      <td>1</td>\n",
       "      <td>1</td>\n",
       "      <td>1</td>\n",
       "      <td>1</td>\n",
       "      <td>1</td>\n",
       "      <td>1</td>\n",
       "      <td>...</td>\n",
       "      <td>m</td>\n",
       "      <td>White-European</td>\n",
       "      <td>no</td>\n",
       "      <td>yes</td>\n",
       "      <td>United States</td>\n",
       "      <td>no</td>\n",
       "      <td>14.851484</td>\n",
       "      <td>18 and more</td>\n",
       "      <td>Self</td>\n",
       "      <td>1</td>\n",
       "    </tr>\n",
       "    <tr>\n",
       "      <th>3</th>\n",
       "      <td>4</td>\n",
       "      <td>0</td>\n",
       "      <td>0</td>\n",
       "      <td>0</td>\n",
       "      <td>0</td>\n",
       "      <td>0</td>\n",
       "      <td>0</td>\n",
       "      <td>0</td>\n",
       "      <td>0</td>\n",
       "      <td>0</td>\n",
       "      <td>...</td>\n",
       "      <td>f</td>\n",
       "      <td>?</td>\n",
       "      <td>no</td>\n",
       "      <td>no</td>\n",
       "      <td>United States</td>\n",
       "      <td>no</td>\n",
       "      <td>2.276617</td>\n",
       "      <td>18 and more</td>\n",
       "      <td>Self</td>\n",
       "      <td>0</td>\n",
       "    </tr>\n",
       "    <tr>\n",
       "      <th>4</th>\n",
       "      <td>5</td>\n",
       "      <td>0</td>\n",
       "      <td>0</td>\n",
       "      <td>0</td>\n",
       "      <td>0</td>\n",
       "      <td>0</td>\n",
       "      <td>0</td>\n",
       "      <td>0</td>\n",
       "      <td>0</td>\n",
       "      <td>0</td>\n",
       "      <td>...</td>\n",
       "      <td>m</td>\n",
       "      <td>?</td>\n",
       "      <td>no</td>\n",
       "      <td>no</td>\n",
       "      <td>South Africa</td>\n",
       "      <td>no</td>\n",
       "      <td>-4.777286</td>\n",
       "      <td>18 and more</td>\n",
       "      <td>Self</td>\n",
       "      <td>0</td>\n",
       "    </tr>\n",
       "  </tbody>\n",
       "</table>\n",
       "<p>5 rows × 22 columns</p>\n",
       "</div>"
      ],
      "text/plain": [
       "   ID  A1_Score  A2_Score  A3_Score  A4_Score  A5_Score  A6_Score  A7_Score  \\\n",
       "0   1         1         0         1         0         1         0         1   \n",
       "1   2         0         0         0         0         0         0         0   \n",
       "2   3         1         1         1         1         1         1         1   \n",
       "3   4         0         0         0         0         0         0         0   \n",
       "4   5         0         0         0         0         0         0         0   \n",
       "\n",
       "   A8_Score  A9_Score  ...  gender       ethnicity jaundice austim  \\\n",
       "0         0         1  ...       f               ?       no     no   \n",
       "1         0         0  ...       m               ?       no     no   \n",
       "2         1         1  ...       m  White-European       no    yes   \n",
       "3         0         0  ...       f               ?       no     no   \n",
       "4         0         0  ...       m               ?       no     no   \n",
       "\n",
       "   contry_of_res used_app_before     result     age_desc  relation Class/ASD  \n",
       "0        Austria              no   6.351166  18 and more      Self         0  \n",
       "1          India              no   2.255185  18 and more      Self         0  \n",
       "2  United States              no  14.851484  18 and more      Self         1  \n",
       "3  United States              no   2.276617  18 and more      Self         0  \n",
       "4   South Africa              no  -4.777286  18 and more      Self         0  \n",
       "\n",
       "[5 rows x 22 columns]"
      ]
     },
     "execution_count": 3,
     "metadata": {},
     "output_type": "execute_result"
    }
   ],
   "source": [
    "train_df.head()"
   ]
  },
  {
   "cell_type": "code",
   "execution_count": 4,
   "id": "7190a317",
   "metadata": {
    "execution": {
     "iopub.execute_input": "2022-05-05T21:47:49.610698Z",
     "iopub.status.busy": "2022-05-05T21:47:49.610131Z",
     "iopub.status.idle": "2022-05-05T21:47:49.651190Z",
     "shell.execute_reply": "2022-05-05T21:47:49.648343Z"
    },
    "papermill": {
     "duration": 0.098064,
     "end_time": "2022-05-05T21:47:49.654501",
     "exception": false,
     "start_time": "2022-05-05T21:47:49.556437",
     "status": "completed"
    },
    "tags": []
   },
   "outputs": [
    {
     "name": "stdout",
     "output_type": "stream",
     "text": [
      "ID\n",
      "Has NA: 0\n",
      "Has Null: 0\n",
      "Col Type:int64\n",
      "A1_Score\n",
      "Has NA: 0\n",
      "Has Null: 0\n",
      "Col Type:int64\n",
      "A2_Score\n",
      "Has NA: 0\n",
      "Has Null: 0\n",
      "Col Type:int64\n",
      "A3_Score\n",
      "Has NA: 0\n",
      "Has Null: 0\n",
      "Col Type:int64\n",
      "A4_Score\n",
      "Has NA: 0\n",
      "Has Null: 0\n",
      "Col Type:int64\n",
      "A5_Score\n",
      "Has NA: 0\n",
      "Has Null: 0\n",
      "Col Type:int64\n",
      "A6_Score\n",
      "Has NA: 0\n",
      "Has Null: 0\n",
      "Col Type:int64\n",
      "A7_Score\n",
      "Has NA: 0\n",
      "Has Null: 0\n",
      "Col Type:int64\n",
      "A8_Score\n",
      "Has NA: 0\n",
      "Has Null: 0\n",
      "Col Type:int64\n",
      "A9_Score\n",
      "Has NA: 0\n",
      "Has Null: 0\n",
      "Col Type:int64\n",
      "A10_Score\n",
      "Has NA: 0\n",
      "Has Null: 0\n",
      "Col Type:int64\n",
      "age\n",
      "Has NA: 0\n",
      "Has Null: 0\n",
      "Col Type:float64\n",
      "gender\n",
      "Has NA: 0\n",
      "Has Null: 0\n",
      "Col Type:object\n",
      "ethnicity\n",
      "Has NA: 0\n",
      "Has Null: 0\n",
      "Col Type:object\n",
      "jaundice\n",
      "Has NA: 0\n",
      "Has Null: 0\n",
      "Col Type:object\n",
      "austim\n",
      "Has NA: 0\n",
      "Has Null: 0\n",
      "Col Type:object\n",
      "contry_of_res\n",
      "Has NA: 0\n",
      "Has Null: 0\n",
      "Col Type:object\n",
      "used_app_before\n",
      "Has NA: 0\n",
      "Has Null: 0\n",
      "Col Type:object\n",
      "result\n",
      "Has NA: 0\n",
      "Has Null: 0\n",
      "Col Type:float64\n",
      "age_desc\n",
      "Has NA: 0\n",
      "Has Null: 0\n",
      "Col Type:object\n",
      "relation\n",
      "Has NA: 0\n",
      "Has Null: 0\n",
      "Col Type:object\n",
      "Class/ASD\n",
      "Has NA: 0\n",
      "Has Null: 0\n",
      "Col Type:int64\n"
     ]
    }
   ],
   "source": [
    "#Check for Null values in the columns\n",
    "for col in train_df.columns:\n",
    "    print(col)\n",
    "    print(f\"Has NA: {train_df[col].isna().sum()}\")\n",
    "    print(f\"Has Null: {train_df[col].isnull().sum()}\")\n",
    "    print(f\"Col Type:{train_df[col].dtype}\")\n",
    "    #print(f\"Distinct values:{train_df[col].unique()}\")"
   ]
  },
  {
   "cell_type": "code",
   "execution_count": 5,
   "id": "e1ed5b84",
   "metadata": {
    "execution": {
     "iopub.execute_input": "2022-05-05T21:47:49.762556Z",
     "iopub.status.busy": "2022-05-05T21:47:49.762213Z",
     "iopub.status.idle": "2022-05-05T21:47:49.765805Z",
     "shell.execute_reply": "2022-05-05T21:47:49.765175Z"
    },
    "papermill": {
     "duration": 0.060191,
     "end_time": "2022-05-05T21:47:49.767620",
     "exception": false,
     "start_time": "2022-05-05T21:47:49.707429",
     "status": "completed"
    },
    "tags": []
   },
   "outputs": [],
   "source": [
    "cat_col = []\n",
    "num_col = []"
   ]
  },
  {
   "cell_type": "code",
   "execution_count": 6,
   "id": "139d30f3",
   "metadata": {
    "execution": {
     "iopub.execute_input": "2022-05-05T21:47:49.875071Z",
     "iopub.status.busy": "2022-05-05T21:47:49.874796Z",
     "iopub.status.idle": "2022-05-05T21:47:49.881396Z",
     "shell.execute_reply": "2022-05-05T21:47:49.880613Z"
    },
    "papermill": {
     "duration": 0.063239,
     "end_time": "2022-05-05T21:47:49.883471",
     "exception": false,
     "start_time": "2022-05-05T21:47:49.820232",
     "status": "completed"
    },
    "tags": []
   },
   "outputs": [],
   "source": [
    "for x in train_df.columns:\n",
    "    if (train_df.dtypes[x] =='object' or 'Score' in x):\n",
    "        cat_col.append(x)\n",
    "    else:\n",
    "        num_col.append(x)"
   ]
  },
  {
   "cell_type": "code",
   "execution_count": 7,
   "id": "06435f55",
   "metadata": {
    "execution": {
     "iopub.execute_input": "2022-05-05T21:47:49.990951Z",
     "iopub.status.busy": "2022-05-05T21:47:49.990413Z",
     "iopub.status.idle": "2022-05-05T21:47:49.994800Z",
     "shell.execute_reply": "2022-05-05T21:47:49.994183Z"
    },
    "papermill": {
     "duration": 0.060227,
     "end_time": "2022-05-05T21:47:49.996758",
     "exception": false,
     "start_time": "2022-05-05T21:47:49.936531",
     "status": "completed"
    },
    "tags": []
   },
   "outputs": [
    {
     "name": "stdout",
     "output_type": "stream",
     "text": [
      "categorical columns:['A1_Score', 'A2_Score', 'A3_Score', 'A4_Score', 'A5_Score', 'A6_Score', 'A7_Score', 'A8_Score', 'A9_Score', 'A10_Score', 'gender', 'ethnicity', 'jaundice', 'austim', 'contry_of_res', 'used_app_before', 'age_desc', 'relation']\n",
      "numerical columns:['ID', 'age', 'result', 'Class/ASD']\n"
     ]
    }
   ],
   "source": [
    "print(f'categorical columns:{cat_col}')\n",
    "print(f'numerical columns:{num_col}')"
   ]
  },
  {
   "cell_type": "markdown",
   "id": "1131640e",
   "metadata": {
    "papermill": {
     "duration": 0.052666,
     "end_time": "2022-05-05T21:47:50.103930",
     "exception": false,
     "start_time": "2022-05-05T21:47:50.051264",
     "status": "completed"
    },
    "tags": []
   },
   "source": [
    "We have only 2 numeric columns: age and result. Rest will be considered categorical. Score columns are also binary categories."
   ]
  },
  {
   "cell_type": "code",
   "execution_count": 8,
   "id": "796e10a3",
   "metadata": {
    "execution": {
     "iopub.execute_input": "2022-05-05T21:47:50.211760Z",
     "iopub.status.busy": "2022-05-05T21:47:50.211424Z",
     "iopub.status.idle": "2022-05-05T21:47:50.591822Z",
     "shell.execute_reply": "2022-05-05T21:47:50.590928Z"
    },
    "papermill": {
     "duration": 0.436807,
     "end_time": "2022-05-05T21:47:50.594055",
     "exception": false,
     "start_time": "2022-05-05T21:47:50.157248",
     "status": "completed"
    },
    "tags": []
   },
   "outputs": [
    {
     "data": {
      "text/plain": [
       "<AxesSubplot:xlabel='age', ylabel='Count'>"
      ]
     },
     "execution_count": 8,
     "metadata": {},
     "output_type": "execute_result"
    },
    {
     "data": {
      "image/png": "[encoded data removed]",
      "text/plain": [
       "<Figure size 432x288 with 1 Axes>"
      ]
     },
     "metadata": {
      "needs_background": "light"
     },
     "output_type": "display_data"
    }
   ],
   "source": [
    "# find how many people of a certain age have autisim\n",
    "sns.histplot(data=train_df, x=\"age\", hue=\"Class/ASD\")"
   ]
  },
  {
   "cell_type": "code",
   "execution_count": 9,
   "id": "595561ed",
   "metadata": {
    "execution": {
     "iopub.execute_input": "2022-05-05T21:47:50.703945Z",
     "iopub.status.busy": "2022-05-05T21:47:50.703662Z",
     "iopub.status.idle": "2022-05-05T21:47:50.885133Z",
     "shell.execute_reply": "2022-05-05T21:47:50.884505Z"
    },
    "papermill": {
     "duration": 0.238779,
     "end_time": "2022-05-05T21:47:50.887290",
     "exception": false,
     "start_time": "2022-05-05T21:47:50.648511",
     "status": "completed"
    },
    "tags": []
   },
   "outputs": [
    {
     "data": {
      "text/plain": [
       "<AxesSubplot:xlabel='Class/ASD', ylabel='age'>"
      ]
     },
     "execution_count": 9,
     "metadata": {},
     "output_type": "execute_result"
    },
    {
     "data": {
      "image/png": "[encoded data removed]",
      "text/plain": [
       "<Figure size 432x288 with 1 Axes>"
      ]
     },
     "metadata": {
      "needs_background": "light"
     },
     "output_type": "display_data"
    }
   ],
   "source": [
    "sns.boxplot(y=train_df[\"age\"],x=train_df[\"Class/ASD\"])"
   ]
  },
  {
   "cell_type": "markdown",
   "id": "7166c2d2",
   "metadata": {
    "papermill": {
     "duration": 0.055802,
     "end_time": "2022-05-05T21:47:51.000336",
     "exception": false,
     "start_time": "2022-05-05T21:47:50.944534",
     "status": "completed"
    },
    "tags": []
   },
   "source": [
    "# Inference:\n",
    "1. Median age of people who have autism is more than those who don't.\n",
    "2. There lot many people who don't have autism in an age range. Doesn't look qualified field."
   ]
  },
  {
   "cell_type": "code",
   "execution_count": 10,
   "id": "575f517d",
   "metadata": {
    "execution": {
     "iopub.execute_input": "2022-05-05T21:47:51.113855Z",
     "iopub.status.busy": "2022-05-05T21:47:51.113398Z",
     "iopub.status.idle": "2022-05-05T21:47:51.294416Z",
     "shell.execute_reply": "2022-05-05T21:47:51.293492Z"
    },
    "papermill": {
     "duration": 0.239848,
     "end_time": "2022-05-05T21:47:51.296649",
     "exception": false,
     "start_time": "2022-05-05T21:47:51.056801",
     "status": "completed"
    },
    "tags": []
   },
   "outputs": [
    {
     "data": {
      "text/plain": [
       "<AxesSubplot:xlabel='Class/ASD', ylabel='result'>"
      ]
     },
     "execution_count": 10,
     "metadata": {},
     "output_type": "execute_result"
    },
    {
     "data": {
      "image/png": "[encoded data removed]",
      "text/plain": [
       "<Figure size 432x288 with 1 Axes>"
      ]
     },
     "metadata": {
      "needs_background": "light"
     },
     "output_type": "display_data"
    }
   ],
   "source": [
    "sns.boxplot(y=train_df[\"result\"],x=train_df[\"Class/ASD\"])"
   ]
  },
  {
   "cell_type": "code",
   "execution_count": 11,
   "id": "ce11bdcf",
   "metadata": {
    "execution": {
     "iopub.execute_input": "2022-05-05T21:47:51.412308Z",
     "iopub.status.busy": "2022-05-05T21:47:51.411378Z",
     "iopub.status.idle": "2022-05-05T21:47:51.736386Z",
     "shell.execute_reply": "2022-05-05T21:47:51.735553Z"
    },
    "papermill": {
     "duration": 0.385208,
     "end_time": "2022-05-05T21:47:51.738615",
     "exception": false,
     "start_time": "2022-05-05T21:47:51.353407",
     "status": "completed"
    },
    "tags": []
   },
   "outputs": [
    {
     "data": {
      "text/plain": [
       "<AxesSubplot:xlabel='result', ylabel='Count'>"
      ]
     },
     "execution_count": 11,
     "metadata": {},
     "output_type": "execute_result"
    },
    {
     "data": {
      "image/png": "[encoded data removed]",
      "text/plain": [
       "<Figure size 432x288 with 1 Axes>"
      ]
     },
     "metadata": {
      "needs_background": "light"
     },
     "output_type": "display_data"
    }
   ],
   "source": [
    "sns.histplot(data=train_df, x=\"result\", hue=\"Class/ASD\")"
   ]
  },
  {
   "cell_type": "markdown",
   "id": "8c185c85",
   "metadata": {
    "papermill": {
     "duration": 0.056922,
     "end_time": "2022-05-05T21:47:51.853086",
     "exception": false,
     "start_time": "2022-05-05T21:47:51.796164",
     "status": "completed"
    },
    "tags": []
   },
   "source": [
    "# Inference:\n",
    "There is a very little overlap in the result of people who have autism vs who don't so result can be a good criterion for the model."
   ]
  },
  {
   "cell_type": "code",
   "execution_count": 12,
   "id": "98e533fc",
   "metadata": {
    "execution": {
     "iopub.execute_input": "2022-05-05T21:47:51.971498Z",
     "iopub.status.busy": "2022-05-05T21:47:51.970932Z",
     "iopub.status.idle": "2022-05-05T21:47:51.979996Z",
     "shell.execute_reply": "2022-05-05T21:47:51.979413Z"
    },
    "papermill": {
     "duration": 0.071186,
     "end_time": "2022-05-05T21:47:51.982188",
     "exception": false,
     "start_time": "2022-05-05T21:47:51.911002",
     "status": "completed"
    },
    "tags": []
   },
   "outputs": [],
   "source": [
    "# update ethnicity/relation column\n",
    "train_df['ethnicity'] = np.where((train_df.ethnicity =='?')|(train_df.ethnicity =='others'),'Others',train_df.ethnicity)\n",
    "test_df['ethnicity'] = np.where((test_df.ethnicity =='?')|(test_df.ethnicity =='others'),'Others',test_df.ethnicity)\n",
    "train_df['relation'] = np.where((train_df.relation =='?'),'Others',train_df.relation)\n",
    "test_df['relation'] = np.where((test_df.relation =='?'),'Others',test_df.relation)"
   ]
  },
  {
   "cell_type": "code",
   "execution_count": 13,
   "id": "138aaa3e",
   "metadata": {
    "execution": {
     "iopub.execute_input": "2022-05-05T21:47:52.100494Z",
     "iopub.status.busy": "2022-05-05T21:47:52.100178Z",
     "iopub.status.idle": "2022-05-05T21:47:52.108020Z",
     "shell.execute_reply": "2022-05-05T21:47:52.107173Z"
    },
    "papermill": {
     "duration": 0.069918,
     "end_time": "2022-05-05T21:47:52.110158",
     "exception": false,
     "start_time": "2022-05-05T21:47:52.040240",
     "status": "completed"
    },
    "tags": []
   },
   "outputs": [
    {
     "name": "stdout",
     "output_type": "stream",
     "text": [
      "Ethnicity unique values:['Others' 'White-European' 'Middle Eastern ' 'Pasifika' 'Black' 'Hispanic'\n",
      " 'Asian' 'Turkish' 'South Asian' 'Latino']\n",
      "Ethnicity unique values:['White-European' 'Asian' 'Others' 'Middle Eastern ' 'South Asian'\n",
      " 'Pasifika' 'Turkish' 'Latino' 'Black' 'Hispanic']\n",
      "Relation unique values: ['Self' 'Relative' 'Parent' 'Others' 'Health care professional']\n",
      "Relation unique values: ['Self' 'Parent' 'Others' 'Relative' 'Health care professional']\n"
     ]
    }
   ],
   "source": [
    "#print(np.unique(df[['LastName', 'FirstName']].values))\n",
    "print(f\"Ethnicity unique values:{train_df['ethnicity'].unique()}\")\n",
    "print(f\"Ethnicity unique values:{test_df['ethnicity'].unique()}\")\n",
    "print(f\"Relation unique values: {train_df['relation'].unique()}\")\n",
    "print(f\"Relation unique values: {test_df['relation'].unique()}\")"
   ]
  },
  {
   "cell_type": "code",
   "execution_count": 14,
   "id": "4d171ae8",
   "metadata": {
    "execution": {
     "iopub.execute_input": "2022-05-05T21:47:52.227750Z",
     "iopub.status.busy": "2022-05-05T21:47:52.227182Z",
     "iopub.status.idle": "2022-05-05T21:47:52.233187Z",
     "shell.execute_reply": "2022-05-05T21:47:52.232502Z"
    },
    "papermill": {
     "duration": 0.067218,
     "end_time": "2022-05-05T21:47:52.235196",
     "exception": false,
     "start_time": "2022-05-05T21:47:52.167978",
     "status": "completed"
    },
    "tags": []
   },
   "outputs": [],
   "source": [
    "#removing age description column\n",
    "train_df.drop('age_desc',axis=1,inplace=True)\n",
    "test_df.drop('age_desc',axis=1,inplace=True)"
   ]
  },
  {
   "cell_type": "code",
   "execution_count": 15,
   "id": "8727bdf5",
   "metadata": {
    "execution": {
     "iopub.execute_input": "2022-05-05T21:47:52.352875Z",
     "iopub.status.busy": "2022-05-05T21:47:52.352333Z",
     "iopub.status.idle": "2022-05-05T21:47:52.359365Z",
     "shell.execute_reply": "2022-05-05T21:47:52.358534Z"
    },
    "papermill": {
     "duration": 0.068576,
     "end_time": "2022-05-05T21:47:52.361463",
     "exception": false,
     "start_time": "2022-05-05T21:47:52.292887",
     "status": "completed"
    },
    "tags": []
   },
   "outputs": [],
   "source": [
    "#removing relation column\n",
    "train_df.drop('relation',axis=1,inplace=True)\n",
    "test_df.drop('relation',axis=1,inplace=True)"
   ]
  },
  {
   "cell_type": "code",
   "execution_count": 16,
   "id": "efd2864e",
   "metadata": {
    "execution": {
     "iopub.execute_input": "2022-05-05T21:47:52.478925Z",
     "iopub.status.busy": "2022-05-05T21:47:52.478610Z",
     "iopub.status.idle": "2022-05-05T21:47:52.483855Z",
     "shell.execute_reply": "2022-05-05T21:47:52.483242Z"
    },
    "papermill": {
     "duration": 0.066407,
     "end_time": "2022-05-05T21:47:52.485786",
     "exception": false,
     "start_time": "2022-05-05T21:47:52.419379",
     "status": "completed"
    },
    "tags": []
   },
   "outputs": [],
   "source": [
    "# compare categorical columns vs target \n",
    "#'A1_Score', 'A2_Score', 'A3_Score', 'A4_Score', 'A5_Score', 'A6_Score', 'A7_Score', \n",
    "#'A8_Score', 'A9_Score', 'A10_Score', 'gender', 'ethnicity', 'jaundice', 'austim', \n",
    "#'contry_of_res', 'used_app_before', 'age_desc', 'relation'\n",
    "# x_vars=[\"gender\", \"ethnicity\", \"jaundice\", \"austim\"]\n",
    "#sns.set_theme(style=\"whitegrid\")\n",
    "# with sns.axes_style(\"dark\"):\n",
    "#     g = sns.PairGrid(train_df,\n",
    " #                x_vars=x_vars,\n",
    " #                height=5, aspect=.5)\n",
    "  #  g.map(sns.countplot, palette=\"Blues_d\")#color = \"xkcd:Blues_d\")\n",
    "   # for axis in g.fig.axes:   # get all the axis\n",
    "   #     axis.set_xticklabels(axis.get_xticklabels(), rotation = 90)\n",
    "    #ax.set_xticklabels(rotation=40, ha=\"right\")\n",
    "    #plt.xticks(rotation=45)\n",
    "  #  g.set(ylim=(0, 1))\n",
    "   # sns.despine(fig=g.fig, left=True)\n"
   ]
  },
  {
   "cell_type": "code",
   "execution_count": 17,
   "id": "51016d98",
   "metadata": {
    "execution": {
     "iopub.execute_input": "2022-05-05T21:47:52.603412Z",
     "iopub.status.busy": "2022-05-05T21:47:52.603069Z",
     "iopub.status.idle": "2022-05-05T21:47:53.644884Z",
     "shell.execute_reply": "2022-05-05T21:47:53.643838Z"
    },
    "papermill": {
     "duration": 1.104947,
     "end_time": "2022-05-05T21:47:53.648415",
     "exception": false,
     "start_time": "2022-05-05T21:47:52.543468",
     "status": "completed"
    },
    "tags": []
   },
   "outputs": [
    {
     "data": {
      "image/png": "[encoded data removed]",
      "text/plain": [
       "<Figure size 720x576 with 2 Axes>"
      ]
     },
     "metadata": {
      "needs_background": "light"
     },
     "output_type": "display_data"
    }
   ],
   "source": [
    "corr = train_df.corr()\n",
    "plt.figure(figsize=(10,8))\n",
    "sns.heatmap(corr,annot=True,cmap='YlGnBu')\n",
    "plt.show()"
   ]
  },
  {
   "cell_type": "code",
   "execution_count": null,
   "id": "70e3186c",
   "metadata": {
    "papermill": {
     "duration": 0.063591,
     "end_time": "2022-05-05T21:47:53.773515",
     "exception": false,
     "start_time": "2022-05-05T21:47:53.709924",
     "status": "completed"
    },
    "tags": []
   },
   "outputs": [],
   "source": []
  },
  {
   "cell_type": "code",
   "execution_count": 18,
   "id": "7924a816",
   "metadata": {
    "execution": {
     "iopub.execute_input": "2022-05-05T21:47:53.902248Z",
     "iopub.status.busy": "2022-05-05T21:47:53.901662Z",
     "iopub.status.idle": "2022-05-05T21:47:53.918727Z",
     "shell.execute_reply": "2022-05-05T21:47:53.917837Z"
    },
    "papermill": {
     "duration": 0.086171,
     "end_time": "2022-05-05T21:47:53.920893",
     "exception": false,
     "start_time": "2022-05-05T21:47:53.834722",
     "status": "completed"
    },
    "tags": []
   },
   "outputs": [
    {
     "data": {
      "text/html": [
       "<div>\n",
       "<style scoped>\n",
       "    .dataframe tbody tr th:only-of-type {\n",
       "        vertical-align: middle;\n",
       "    }\n",
       "\n",
       "    .dataframe tbody tr th {\n",
       "        vertical-align: top;\n",
       "    }\n",
       "\n",
       "    .dataframe thead th {\n",
       "        text-align: right;\n",
       "    }\n",
       "</style>\n",
       "<table border=\"1\" class=\"dataframe\">\n",
       "  <thead>\n",
       "    <tr style=\"text-align: right;\">\n",
       "      <th></th>\n",
       "      <th>contry_of_res</th>\n",
       "      <th>ID</th>\n",
       "    </tr>\n",
       "  </thead>\n",
       "  <tbody>\n",
       "    <tr>\n",
       "      <th>54</th>\n",
       "      <td>United States</td>\n",
       "      <td>134</td>\n",
       "    </tr>\n",
       "    <tr>\n",
       "      <th>25</th>\n",
       "      <td>India</td>\n",
       "      <td>108</td>\n",
       "    </tr>\n",
       "    <tr>\n",
       "      <th>36</th>\n",
       "      <td>New Zealand</td>\n",
       "      <td>78</td>\n",
       "    </tr>\n",
       "    <tr>\n",
       "      <th>53</th>\n",
       "      <td>United Kingdom</td>\n",
       "      <td>67</td>\n",
       "    </tr>\n",
       "    <tr>\n",
       "      <th>31</th>\n",
       "      <td>Jordan</td>\n",
       "      <td>55</td>\n",
       "    </tr>\n",
       "    <tr>\n",
       "      <th>52</th>\n",
       "      <td>United Arab Emirates</td>\n",
       "      <td>40</td>\n",
       "    </tr>\n",
       "    <tr>\n",
       "      <th>6</th>\n",
       "      <td>Australia</td>\n",
       "      <td>37</td>\n",
       "    </tr>\n",
       "    <tr>\n",
       "      <th>15</th>\n",
       "      <td>Canada</td>\n",
       "      <td>30</td>\n",
       "    </tr>\n",
       "    <tr>\n",
       "      <th>0</th>\n",
       "      <td>Afghanistan</td>\n",
       "      <td>22</td>\n",
       "    </tr>\n",
       "    <tr>\n",
       "      <th>35</th>\n",
       "      <td>Netherlands</td>\n",
       "      <td>20</td>\n",
       "    </tr>\n",
       "    <tr>\n",
       "      <th>7</th>\n",
       "      <td>Austria</td>\n",
       "      <td>18</td>\n",
       "    </tr>\n",
       "    <tr>\n",
       "      <th>48</th>\n",
       "      <td>Sri Lanka</td>\n",
       "      <td>17</td>\n",
       "    </tr>\n",
       "    <tr>\n",
       "      <th>13</th>\n",
       "      <td>Brazil</td>\n",
       "      <td>12</td>\n",
       "    </tr>\n",
       "    <tr>\n",
       "      <th>21</th>\n",
       "      <td>France</td>\n",
       "      <td>10</td>\n",
       "    </tr>\n",
       "    <tr>\n",
       "      <th>47</th>\n",
       "      <td>Spain</td>\n",
       "      <td>10</td>\n",
       "    </tr>\n",
       "    <tr>\n",
       "      <th>32</th>\n",
       "      <td>Kazakhstan</td>\n",
       "      <td>10</td>\n",
       "    </tr>\n",
       "    <tr>\n",
       "      <th>28</th>\n",
       "      <td>Ireland</td>\n",
       "      <td>9</td>\n",
       "    </tr>\n",
       "    <tr>\n",
       "      <th>26</th>\n",
       "      <td>Iran</td>\n",
       "      <td>8</td>\n",
       "    </tr>\n",
       "    <tr>\n",
       "      <th>42</th>\n",
       "      <td>Russia</td>\n",
       "      <td>7</td>\n",
       "    </tr>\n",
       "    <tr>\n",
       "      <th>9</th>\n",
       "      <td>Bahamas</td>\n",
       "      <td>6</td>\n",
       "    </tr>\n",
       "    <tr>\n",
       "      <th>46</th>\n",
       "      <td>South Africa</td>\n",
       "      <td>6</td>\n",
       "    </tr>\n",
       "    <tr>\n",
       "      <th>33</th>\n",
       "      <td>Malaysia</td>\n",
       "      <td>6</td>\n",
       "    </tr>\n",
       "    <tr>\n",
       "      <th>29</th>\n",
       "      <td>Italy</td>\n",
       "      <td>6</td>\n",
       "    </tr>\n",
       "    <tr>\n",
       "      <th>55</th>\n",
       "      <td>Viet Nam</td>\n",
       "      <td>5</td>\n",
       "    </tr>\n",
       "    <tr>\n",
       "      <th>40</th>\n",
       "      <td>Pakistan</td>\n",
       "      <td>4</td>\n",
       "    </tr>\n",
       "    <tr>\n",
       "      <th>4</th>\n",
       "      <td>Armenia</td>\n",
       "      <td>4</td>\n",
       "    </tr>\n",
       "    <tr>\n",
       "      <th>27</th>\n",
       "      <td>Iraq</td>\n",
       "      <td>4</td>\n",
       "    </tr>\n",
       "    <tr>\n",
       "      <th>1</th>\n",
       "      <td>AmericanSamoa</td>\n",
       "      <td>4</td>\n",
       "    </tr>\n",
       "    <tr>\n",
       "      <th>5</th>\n",
       "      <td>Aruba</td>\n",
       "      <td>4</td>\n",
       "    </tr>\n",
       "    <tr>\n",
       "      <th>8</th>\n",
       "      <td>Azerbaijan</td>\n",
       "      <td>4</td>\n",
       "    </tr>\n",
       "    <tr>\n",
       "      <th>16</th>\n",
       "      <td>China</td>\n",
       "      <td>4</td>\n",
       "    </tr>\n",
       "    <tr>\n",
       "      <th>34</th>\n",
       "      <td>Mexico</td>\n",
       "      <td>4</td>\n",
       "    </tr>\n",
       "    <tr>\n",
       "      <th>43</th>\n",
       "      <td>Saudi Arabia</td>\n",
       "      <td>4</td>\n",
       "    </tr>\n",
       "    <tr>\n",
       "      <th>37</th>\n",
       "      <td>Nicaragua</td>\n",
       "      <td>4</td>\n",
       "    </tr>\n",
       "    <tr>\n",
       "      <th>38</th>\n",
       "      <td>Niger</td>\n",
       "      <td>3</td>\n",
       "    </tr>\n",
       "    <tr>\n",
       "      <th>51</th>\n",
       "      <td>Ukraine</td>\n",
       "      <td>3</td>\n",
       "    </tr>\n",
       "    <tr>\n",
       "      <th>44</th>\n",
       "      <td>Serbia</td>\n",
       "      <td>3</td>\n",
       "    </tr>\n",
       "    <tr>\n",
       "      <th>20</th>\n",
       "      <td>Ethiopia</td>\n",
       "      <td>3</td>\n",
       "    </tr>\n",
       "    <tr>\n",
       "      <th>24</th>\n",
       "      <td>Iceland</td>\n",
       "      <td>3</td>\n",
       "    </tr>\n",
       "    <tr>\n",
       "      <th>12</th>\n",
       "      <td>Bolivia</td>\n",
       "      <td>3</td>\n",
       "    </tr>\n",
       "    <tr>\n",
       "      <th>22</th>\n",
       "      <td>Germany</td>\n",
       "      <td>3</td>\n",
       "    </tr>\n",
       "    <tr>\n",
       "      <th>49</th>\n",
       "      <td>Sweden</td>\n",
       "      <td>2</td>\n",
       "    </tr>\n",
       "    <tr>\n",
       "      <th>39</th>\n",
       "      <td>Oman</td>\n",
       "      <td>2</td>\n",
       "    </tr>\n",
       "    <tr>\n",
       "      <th>17</th>\n",
       "      <td>Cyprus</td>\n",
       "      <td>2</td>\n",
       "    </tr>\n",
       "    <tr>\n",
       "      <th>10</th>\n",
       "      <td>Bangladesh</td>\n",
       "      <td>1</td>\n",
       "    </tr>\n",
       "    <tr>\n",
       "      <th>11</th>\n",
       "      <td>Belgium</td>\n",
       "      <td>1</td>\n",
       "    </tr>\n",
       "    <tr>\n",
       "      <th>45</th>\n",
       "      <td>Sierra Leone</td>\n",
       "      <td>1</td>\n",
       "    </tr>\n",
       "    <tr>\n",
       "      <th>19</th>\n",
       "      <td>Egypt</td>\n",
       "      <td>1</td>\n",
       "    </tr>\n",
       "    <tr>\n",
       "      <th>14</th>\n",
       "      <td>Burundi</td>\n",
       "      <td>1</td>\n",
       "    </tr>\n",
       "    <tr>\n",
       "      <th>30</th>\n",
       "      <td>Japan</td>\n",
       "      <td>1</td>\n",
       "    </tr>\n",
       "    <tr>\n",
       "      <th>18</th>\n",
       "      <td>Czech Republic</td>\n",
       "      <td>1</td>\n",
       "    </tr>\n",
       "    <tr>\n",
       "      <th>50</th>\n",
       "      <td>Tonga</td>\n",
       "      <td>1</td>\n",
       "    </tr>\n",
       "    <tr>\n",
       "      <th>41</th>\n",
       "      <td>Romania</td>\n",
       "      <td>1</td>\n",
       "    </tr>\n",
       "    <tr>\n",
       "      <th>23</th>\n",
       "      <td>Hong Kong</td>\n",
       "      <td>1</td>\n",
       "    </tr>\n",
       "    <tr>\n",
       "      <th>3</th>\n",
       "      <td>Argentina</td>\n",
       "      <td>1</td>\n",
       "    </tr>\n",
       "    <tr>\n",
       "      <th>2</th>\n",
       "      <td>Angola</td>\n",
       "      <td>1</td>\n",
       "    </tr>\n",
       "  </tbody>\n",
       "</table>\n",
       "</div>"
      ],
      "text/plain": [
       "           contry_of_res   ID\n",
       "54         United States  134\n",
       "25                 India  108\n",
       "36           New Zealand   78\n",
       "53        United Kingdom   67\n",
       "31                Jordan   55\n",
       "52  United Arab Emirates   40\n",
       "6              Australia   37\n",
       "15                Canada   30\n",
       "0            Afghanistan   22\n",
       "35           Netherlands   20\n",
       "7                Austria   18\n",
       "48             Sri Lanka   17\n",
       "13                Brazil   12\n",
       "21                France   10\n",
       "47                 Spain   10\n",
       "32            Kazakhstan   10\n",
       "28               Ireland    9\n",
       "26                  Iran    8\n",
       "42                Russia    7\n",
       "9                Bahamas    6\n",
       "46          South Africa    6\n",
       "33              Malaysia    6\n",
       "29                 Italy    6\n",
       "55              Viet Nam    5\n",
       "40              Pakistan    4\n",
       "4                Armenia    4\n",
       "27                  Iraq    4\n",
       "1          AmericanSamoa    4\n",
       "5                  Aruba    4\n",
       "8             Azerbaijan    4\n",
       "16                 China    4\n",
       "34                Mexico    4\n",
       "43          Saudi Arabia    4\n",
       "37             Nicaragua    4\n",
       "38                 Niger    3\n",
       "51               Ukraine    3\n",
       "44                Serbia    3\n",
       "20              Ethiopia    3\n",
       "24               Iceland    3\n",
       "12               Bolivia    3\n",
       "22               Germany    3\n",
       "49                Sweden    2\n",
       "39                  Oman    2\n",
       "17                Cyprus    2\n",
       "10            Bangladesh    1\n",
       "11               Belgium    1\n",
       "45          Sierra Leone    1\n",
       "19                 Egypt    1\n",
       "14               Burundi    1\n",
       "30                 Japan    1\n",
       "18        Czech Republic    1\n",
       "50                 Tonga    1\n",
       "41               Romania    1\n",
       "23             Hong Kong    1\n",
       "3              Argentina    1\n",
       "2                 Angola    1"
      ]
     },
     "execution_count": 18,
     "metadata": {},
     "output_type": "execute_result"
    }
   ],
   "source": [
    "# getting count of records for each country\n",
    "train_df.groupby(train_df['contry_of_res']).size().reset_index(name='ID').sort_values(['ID'], ascending=False)"
   ]
  },
  {
   "cell_type": "code",
   "execution_count": null,
   "id": "93a62840",
   "metadata": {
    "papermill": {
     "duration": 0.062671,
     "end_time": "2022-05-05T21:47:54.046331",
     "exception": false,
     "start_time": "2022-05-05T21:47:53.983660",
     "status": "completed"
    },
    "tags": []
   },
   "outputs": [],
   "source": []
  },
  {
   "cell_type": "code",
   "execution_count": null,
   "id": "1d5bf5ca",
   "metadata": {
    "papermill": {
     "duration": 0.061967,
     "end_time": "2022-05-05T21:47:54.170603",
     "exception": false,
     "start_time": "2022-05-05T21:47:54.108636",
     "status": "completed"
    },
    "tags": []
   },
   "outputs": [],
   "source": []
  },
  {
   "cell_type": "code",
   "execution_count": null,
   "id": "748b6bd0",
   "metadata": {
    "papermill": {
     "duration": 0.061869,
     "end_time": "2022-05-05T21:47:54.298941",
     "exception": false,
     "start_time": "2022-05-05T21:47:54.237072",
     "status": "completed"
    },
    "tags": []
   },
   "outputs": [],
   "source": []
  },
  {
   "cell_type": "code",
   "execution_count": null,
   "id": "715d1971",
   "metadata": {
    "papermill": {
     "duration": 0.062286,
     "end_time": "2022-05-05T21:47:54.424043",
     "exception": false,
     "start_time": "2022-05-05T21:47:54.361757",
     "status": "completed"
    },
    "tags": []
   },
   "outputs": [],
   "source": []
  },
  {
   "cell_type": "code",
   "execution_count": null,
   "id": "0487a33d",
   "metadata": {
    "papermill": {
     "duration": 0.061791,
     "end_time": "2022-05-05T21:47:54.548216",
     "exception": false,
     "start_time": "2022-05-05T21:47:54.486425",
     "status": "completed"
    },
    "tags": []
   },
   "outputs": [],
   "source": []
  },
  {
   "cell_type": "code",
   "execution_count": null,
   "id": "8ed6a2f5",
   "metadata": {
    "papermill": {
     "duration": 0.0615,
     "end_time": "2022-05-05T21:47:54.671826",
     "exception": false,
     "start_time": "2022-05-05T21:47:54.610326",
     "status": "completed"
    },
    "tags": []
   },
   "outputs": [],
   "source": []
  },
  {
   "cell_type": "code",
   "execution_count": null,
   "id": "ead781ff",
   "metadata": {
    "papermill": {
     "duration": 0.063777,
     "end_time": "2022-05-05T21:47:54.799297",
     "exception": false,
     "start_time": "2022-05-05T21:47:54.735520",
     "status": "completed"
    },
    "tags": []
   },
   "outputs": [],
   "source": []
  },
  {
   "cell_type": "code",
   "execution_count": null,
   "id": "ccc61150",
   "metadata": {
    "papermill": {
     "duration": 0.061587,
     "end_time": "2022-05-05T21:47:54.922534",
     "exception": false,
     "start_time": "2022-05-05T21:47:54.860947",
     "status": "completed"
    },
    "tags": []
   },
   "outputs": [],
   "source": []
  },
  {
   "cell_type": "code",
   "execution_count": null,
   "id": "7c09a496",
   "metadata": {
    "papermill": {
     "duration": 0.061444,
     "end_time": "2022-05-05T21:47:55.045723",
     "exception": false,
     "start_time": "2022-05-05T21:47:54.984279",
     "status": "completed"
    },
    "tags": []
   },
   "outputs": [],
   "source": []
  },
  {
   "cell_type": "code",
   "execution_count": null,
   "id": "a0780d7e",
   "metadata": {
    "papermill": {
     "duration": 0.061356,
     "end_time": "2022-05-05T21:47:55.170168",
     "exception": false,
     "start_time": "2022-05-05T21:47:55.108812",
     "status": "completed"
    },
    "tags": []
   },
   "outputs": [],
   "source": []
  },
  {
   "cell_type": "code",
   "execution_count": null,
   "id": "7139a7b1",
   "metadata": {
    "papermill": {
     "duration": 0.062663,
     "end_time": "2022-05-05T21:47:55.294647",
     "exception": false,
     "start_time": "2022-05-05T21:47:55.231984",
     "status": "completed"
    },
    "tags": []
   },
   "outputs": [],
   "source": []
  },
  {
   "cell_type": "code",
   "execution_count": null,
   "id": "90e54783",
   "metadata": {
    "papermill": {
     "duration": 0.062479,
     "end_time": "2022-05-05T21:47:55.426461",
     "exception": false,
     "start_time": "2022-05-05T21:47:55.363982",
     "status": "completed"
    },
    "tags": []
   },
   "outputs": [],
   "source": []
  },
  {
   "cell_type": "code",
   "execution_count": null,
   "id": "f3b99914",
   "metadata": {
    "papermill": {
     "duration": 0.061226,
     "end_time": "2022-05-05T21:47:55.549698",
     "exception": false,
     "start_time": "2022-05-05T21:47:55.488472",
     "status": "completed"
    },
    "tags": []
   },
   "outputs": [],
   "source": []
  },
  {
   "cell_type": "code",
   "execution_count": null,
   "id": "b5c707c0",
   "metadata": {
    "papermill": {
     "duration": 0.06169,
     "end_time": "2022-05-05T21:47:55.674308",
     "exception": false,
     "start_time": "2022-05-05T21:47:55.612618",
     "status": "completed"
    },
    "tags": []
   },
   "outputs": [],
   "source": []
  },
  {
   "cell_type": "code",
   "execution_count": null,
   "id": "78c60073",
   "metadata": {
    "papermill": {
     "duration": 0.061733,
     "end_time": "2022-05-05T21:47:55.797733",
     "exception": false,
     "start_time": "2022-05-05T21:47:55.736000",
     "status": "completed"
    },
    "tags": []
   },
   "outputs": [],
   "source": []
  },
  {
   "cell_type": "code",
   "execution_count": null,
   "id": "4ae9dc3d",
   "metadata": {
    "papermill": {
     "duration": 0.062133,
     "end_time": "2022-05-05T21:47:55.921838",
     "exception": false,
     "start_time": "2022-05-05T21:47:55.859705",
     "status": "completed"
    },
    "tags": []
   },
   "outputs": [],
   "source": []
  },
  {
   "cell_type": "code",
   "execution_count": null,
   "id": "6c3514f9",
   "metadata": {
    "papermill": {
     "duration": 0.061488,
     "end_time": "2022-05-05T21:47:56.045323",
     "exception": false,
     "start_time": "2022-05-05T21:47:55.983835",
     "status": "completed"
    },
    "tags": []
   },
   "outputs": [],
   "source": []
  },
  {
   "cell_type": "code",
   "execution_count": null,
   "id": "813aa9fa",
   "metadata": {
    "papermill": {
     "duration": 0.061415,
     "end_time": "2022-05-05T21:47:56.168771",
     "exception": false,
     "start_time": "2022-05-05T21:47:56.107356",
     "status": "completed"
    },
    "tags": []
   },
   "outputs": [],
   "source": []
  },
  {
   "cell_type": "code",
   "execution_count": null,
   "id": "09771acc",
   "metadata": {
    "papermill": {
     "duration": 0.061343,
     "end_time": "2022-05-05T21:47:56.291821",
     "exception": false,
     "start_time": "2022-05-05T21:47:56.230478",
     "status": "completed"
    },
    "tags": []
   },
   "outputs": [],
   "source": []
  },
  {
   "cell_type": "code",
   "execution_count": null,
   "id": "65cb44ef",
   "metadata": {
    "papermill": {
     "duration": 0.06228,
     "end_time": "2022-05-05T21:47:56.416145",
     "exception": false,
     "start_time": "2022-05-05T21:47:56.353865",
     "status": "completed"
    },
    "tags": []
   },
   "outputs": [],
   "source": []
  },
  {
   "cell_type": "code",
   "execution_count": null,
   "id": "a921dd66",
   "metadata": {
    "papermill": {
     "duration": 0.061487,
     "end_time": "2022-05-05T21:47:56.539458",
     "exception": false,
     "start_time": "2022-05-05T21:47:56.477971",
     "status": "completed"
    },
    "tags": []
   },
   "outputs": [],
   "source": []
  },
  {
   "cell_type": "code",
   "execution_count": null,
   "id": "e14b7763",
   "metadata": {
    "papermill": {
     "duration": 0.061569,
     "end_time": "2022-05-05T21:47:56.662826",
     "exception": false,
     "start_time": "2022-05-05T21:47:56.601257",
     "status": "completed"
    },
    "tags": []
   },
   "outputs": [],
   "source": []
  },
  {
   "cell_type": "code",
   "execution_count": null,
   "id": "999561bd",
   "metadata": {
    "papermill": {
     "duration": 0.062318,
     "end_time": "2022-05-05T21:47:56.788159",
     "exception": false,
     "start_time": "2022-05-05T21:47:56.725841",
     "status": "completed"
    },
    "tags": []
   },
   "outputs": [],
   "source": []
  },
  {
   "cell_type": "code",
   "execution_count": null,
   "id": "ca87bcfe",
   "metadata": {
    "papermill": {
     "duration": 0.061611,
     "end_time": "2022-05-05T21:47:56.913933",
     "exception": false,
     "start_time": "2022-05-05T21:47:56.852322",
     "status": "completed"
    },
    "tags": []
   },
   "outputs": [],
   "source": []
  },
  {
   "cell_type": "code",
   "execution_count": null,
   "id": "f9051c1e",
   "metadata": {
    "papermill": {
     "duration": 0.064853,
     "end_time": "2022-05-05T21:47:57.041597",
     "exception": false,
     "start_time": "2022-05-05T21:47:56.976744",
     "status": "completed"
    },
    "tags": []
   },
   "outputs": [],
   "source": []
  },
  {
   "cell_type": "code",
   "execution_count": null,
   "id": "2c0b2747",
   "metadata": {
    "papermill": {
     "duration": 0.061676,
     "end_time": "2022-05-05T21:47:57.166076",
     "exception": false,
     "start_time": "2022-05-05T21:47:57.104400",
     "status": "completed"
    },
    "tags": []
   },
   "outputs": [],
   "source": []
  },
  {
   "cell_type": "code",
   "execution_count": null,
   "id": "6440c868",
   "metadata": {
    "papermill": {
     "duration": 0.061558,
     "end_time": "2022-05-05T21:47:57.289529",
     "exception": false,
     "start_time": "2022-05-05T21:47:57.227971",
     "status": "completed"
    },
    "tags": []
   },
   "outputs": [],
   "source": []
  },
  {
   "cell_type": "code",
   "execution_count": null,
   "id": "26395b0f",
   "metadata": {
    "papermill": {
     "duration": 0.062088,
     "end_time": "2022-05-05T21:47:57.414988",
     "exception": false,
     "start_time": "2022-05-05T21:47:57.352900",
     "status": "completed"
    },
    "tags": []
   },
   "outputs": [],
   "source": []
  },
  {
   "cell_type": "code",
   "execution_count": null,
   "id": "39ef2f9f",
   "metadata": {
    "papermill": {
     "duration": 0.061582,
     "end_time": "2022-05-05T21:47:57.538675",
     "exception": false,
     "start_time": "2022-05-05T21:47:57.477093",
     "status": "completed"
    },
    "tags": []
   },
   "outputs": [],
   "source": []
  },
  {
   "cell_type": "code",
   "execution_count": null,
   "id": "2b9a3e68",
   "metadata": {
    "papermill": {
     "duration": 0.061464,
     "end_time": "2022-05-05T21:47:57.661767",
     "exception": false,
     "start_time": "2022-05-05T21:47:57.600303",
     "status": "completed"
    },
    "tags": []
   },
   "outputs": [],
   "source": []
  },
  {
   "cell_type": "code",
   "execution_count": null,
   "id": "2acaa47e",
   "metadata": {
    "papermill": {
     "duration": 0.061529,
     "end_time": "2022-05-05T21:47:57.785347",
     "exception": false,
     "start_time": "2022-05-05T21:47:57.723818",
     "status": "completed"
    },
    "tags": []
   },
   "outputs": [],
   "source": []
  },
  {
   "cell_type": "code",
   "execution_count": null,
   "id": "41fe6c0b",
   "metadata": {
    "papermill": {
     "duration": 0.063647,
     "end_time": "2022-05-05T21:47:57.911581",
     "exception": false,
     "start_time": "2022-05-05T21:47:57.847934",
     "status": "completed"
    },
    "tags": []
   },
   "outputs": [],
   "source": []
  },
  {
   "cell_type": "code",
   "execution_count": null,
   "id": "92963fcf",
   "metadata": {
    "papermill": {
     "duration": 0.061465,
     "end_time": "2022-05-05T21:47:58.034767",
     "exception": false,
     "start_time": "2022-05-05T21:47:57.973302",
     "status": "completed"
    },
    "tags": []
   },
   "outputs": [],
   "source": []
  },
  {
   "cell_type": "code",
   "execution_count": null,
   "id": "91878bfa",
   "metadata": {
    "papermill": {
     "duration": 0.061545,
     "end_time": "2022-05-05T21:47:58.158060",
     "exception": false,
     "start_time": "2022-05-05T21:47:58.096515",
     "status": "completed"
    },
    "tags": []
   },
   "outputs": [],
   "source": []
  },
  {
   "cell_type": "code",
   "execution_count": null,
   "id": "3bbdd4ee",
   "metadata": {
    "papermill": {
     "duration": 0.061317,
     "end_time": "2022-05-05T21:47:58.281404",
     "exception": false,
     "start_time": "2022-05-05T21:47:58.220087",
     "status": "completed"
    },
    "tags": []
   },
   "outputs": [],
   "source": []
  },
  {
   "cell_type": "code",
   "execution_count": null,
   "id": "57a41e83",
   "metadata": {
    "papermill": {
     "duration": 0.082383,
     "end_time": "2022-05-05T21:47:58.427173",
     "exception": false,
     "start_time": "2022-05-05T21:47:58.344790",
     "status": "completed"
    },
    "tags": []
   },
   "outputs": [],
   "source": []
  },
  {
   "cell_type": "code",
   "execution_count": null,
   "id": "62c23a44",
   "metadata": {
    "papermill": {
     "duration": 0.061915,
     "end_time": "2022-05-05T21:47:58.561107",
     "exception": false,
     "start_time": "2022-05-05T21:47:58.499192",
     "status": "completed"
    },
    "tags": []
   },
   "outputs": [],
   "source": []
  },
  {
   "cell_type": "code",
   "execution_count": null,
   "id": "20356172",
   "metadata": {
    "papermill": {
     "duration": 0.061477,
     "end_time": "2022-05-05T21:47:58.684666",
     "exception": false,
     "start_time": "2022-05-05T21:47:58.623189",
     "status": "completed"
    },
    "tags": []
   },
   "outputs": [],
   "source": []
  },
  {
   "cell_type": "code",
   "execution_count": null,
   "id": "ec3ebc25",
   "metadata": {
    "papermill": {
     "duration": 0.065127,
     "end_time": "2022-05-05T21:47:58.812030",
     "exception": false,
     "start_time": "2022-05-05T21:47:58.746903",
     "status": "completed"
    },
    "tags": []
   },
   "outputs": [],
   "source": []
  }
 ],
 "metadata": {
  "kernelspec": {
   "display_name": "Python 3",
   "language": "python",
   "name": "python3"
  },
  "language_info": {
   "codemirror_mode": {
    "name": "ipython",
    "version": 3
   },
   "file_extension": ".py",
   "mimetype": "text/x-python",
   "name": "python",
   "nbconvert_exporter": "python",
   "pygments_lexer": "ipython3",
   "version": "3.7.12"
  },
  "papermill": {
   "default_parameters": {},
   "duration": 22.060542,
   "end_time": "2022-05-05T21:47:59.696010",
   "environment_variables": {},
   "exception": null,
   "input_path": "__notebook__.ipynb",
   "output_path": "__notebook__.ipynb",
   "parameters": {},
   "start_time": "2022-05-05T21:47:37.635468",
   "version": "2.3.4"
  }
 },
 "nbformat": 4,
 "nbformat_minor": 5
}
